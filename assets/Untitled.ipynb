{
 "cells": [
  {
   "cell_type": "code",
   "execution_count": 1,
   "metadata": {},
   "outputs": [],
   "source": [
    "import pandas as pd"
   ]
  },
  {
   "cell_type": "code",
   "execution_count": 6,
   "metadata": {},
   "outputs": [
    {
     "data": {
      "text/html": [
       "<div>\n",
       "<style scoped>\n",
       "    .dataframe tbody tr th:only-of-type {\n",
       "        vertical-align: middle;\n",
       "    }\n",
       "\n",
       "    .dataframe tbody tr th {\n",
       "        vertical-align: top;\n",
       "    }\n",
       "\n",
       "    .dataframe thead th {\n",
       "        text-align: right;\n",
       "    }\n",
       "</style>\n",
       "<table border=\"1\" class=\"dataframe\">\n",
       "  <thead>\n",
       "    <tr style=\"text-align: right;\">\n",
       "      <th></th>\n",
       "      <th>Unnamed: 0</th>\n",
       "      <th>City</th>\n",
       "      <th>Lat</th>\n",
       "      <th>Lng</th>\n",
       "      <th>Max Temp</th>\n",
       "      <th>Humidity</th>\n",
       "      <th>Cloudiness</th>\n",
       "      <th>Wind Speed</th>\n",
       "      <th>Country</th>\n",
       "      <th>Date</th>\n",
       "    </tr>\n",
       "  </thead>\n",
       "  <tbody>\n",
       "    <tr>\n",
       "      <th>0</th>\n",
       "      <td>0</td>\n",
       "      <td>Okhotsk</td>\n",
       "      <td>59.38</td>\n",
       "      <td>143.30</td>\n",
       "      <td>31.19</td>\n",
       "      <td>96</td>\n",
       "      <td>99</td>\n",
       "      <td>14.05</td>\n",
       "      <td>RU</td>\n",
       "      <td>1603306297</td>\n",
       "    </tr>\n",
       "    <tr>\n",
       "      <th>1</th>\n",
       "      <td>1</td>\n",
       "      <td>Edmundston</td>\n",
       "      <td>47.37</td>\n",
       "      <td>-68.33</td>\n",
       "      <td>39.99</td>\n",
       "      <td>93</td>\n",
       "      <td>90</td>\n",
       "      <td>13.87</td>\n",
       "      <td>CA</td>\n",
       "      <td>1603306529</td>\n",
       "    </tr>\n",
       "    <tr>\n",
       "      <th>2</th>\n",
       "      <td>2</td>\n",
       "      <td>Campo de Criptana</td>\n",
       "      <td>39.40</td>\n",
       "      <td>-3.12</td>\n",
       "      <td>55.99</td>\n",
       "      <td>76</td>\n",
       "      <td>100</td>\n",
       "      <td>4.00</td>\n",
       "      <td>ES</td>\n",
       "      <td>1603306530</td>\n",
       "    </tr>\n",
       "    <tr>\n",
       "      <th>3</th>\n",
       "      <td>3</td>\n",
       "      <td>Ushuaia</td>\n",
       "      <td>-54.80</td>\n",
       "      <td>-68.30</td>\n",
       "      <td>55.40</td>\n",
       "      <td>43</td>\n",
       "      <td>75</td>\n",
       "      <td>16.11</td>\n",
       "      <td>AR</td>\n",
       "      <td>1603306261</td>\n",
       "    </tr>\n",
       "    <tr>\n",
       "      <th>4</th>\n",
       "      <td>4</td>\n",
       "      <td>Talnakh</td>\n",
       "      <td>69.49</td>\n",
       "      <td>88.40</td>\n",
       "      <td>12.20</td>\n",
       "      <td>85</td>\n",
       "      <td>100</td>\n",
       "      <td>13.42</td>\n",
       "      <td>RU</td>\n",
       "      <td>1603306530</td>\n",
       "    </tr>\n",
       "  </tbody>\n",
       "</table>\n",
       "</div>"
      ],
      "text/plain": [
       "   Unnamed: 0               City    Lat     Lng  Max Temp  Humidity  \\\n",
       "0           0            Okhotsk  59.38  143.30     31.19        96   \n",
       "1           1         Edmundston  47.37  -68.33     39.99        93   \n",
       "2           2  Campo de Criptana  39.40   -3.12     55.99        76   \n",
       "3           3            Ushuaia -54.80  -68.30     55.40        43   \n",
       "4           4            Talnakh  69.49   88.40     12.20        85   \n",
       "\n",
       "   Cloudiness  Wind Speed Country        Date  \n",
       "0          99       14.05      RU  1603306297  \n",
       "1          90       13.87      CA  1603306529  \n",
       "2         100        4.00      ES  1603306530  \n",
       "3          75       16.11      AR  1603306261  \n",
       "4         100       13.42      RU  1603306530  "
      ]
     },
     "execution_count": 6,
     "metadata": {},
     "output_type": "execute_result"
    }
   ],
   "source": [
    "csv_path=\"city_data.csv\"\n",
    "weather_df=pd.read_csv(csv_path)\n",
    "weather_df.head()"
   ]
  },
  {
   "cell_type": "code",
   "execution_count": 8,
   "metadata": {},
   "outputs": [],
   "source": [
    "weather_df.to_html(\"table.htm\",index=False)"
   ]
  },
  {
   "cell_type": "code",
   "execution_count": 9,
   "metadata": {},
   "outputs": [],
   "source": [
    "html_file=weather_df.to_html()"
   ]
  },
  {
   "cell_type": "code",
   "execution_count": null,
   "metadata": {},
   "outputs": [],
   "source": []
  }
 ],
 "metadata": {
  "kernelspec": {
   "display_name": "Python [conda env:pythondata] *",
   "language": "python",
   "name": "conda-env-pythondata-py"
  },
  "language_info": {
   "codemirror_mode": {
    "name": "ipython",
    "version": 3
   },
   "file_extension": ".py",
   "mimetype": "text/x-python",
   "name": "python",
   "nbconvert_exporter": "python",
   "pygments_lexer": "ipython3",
   "version": "3.7.1"
  }
 },
 "nbformat": 4,
 "nbformat_minor": 4
}
